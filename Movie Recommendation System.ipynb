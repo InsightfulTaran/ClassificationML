{
 "cells":[
  {
   "cell_type":"code",
   "source":[
    "''' IMPORTING LIBRARIES '''\n",
    "\n",
    "import numpy as np\n",
    "import pandas as pd\n",
    "import matplotlib.pyplot as plt\n",
    "import seaborn as sns\n",
    "%matplotlib inline\n",
    "\n",
    "''' Connect data to python editor'''\n",
    "rating = pd.read_csv(r\"F:\\PROJECT\\Projects Completed\\Movie Recommendation System\\Dataset.csv\")\n",
    "movie=pd.read_csv(r\"F:\\PROJECT\\Projects Completed\\Movie Recommendation System\\Movie_Id_Titles.csv\")\n",
    "\n",
    "'''MERGING BOTH DATASET'''\n",
    "df = pd.merge(movie,rating, on='item_id')\n",
    "\n",
    "'''EXPLORATORY DATA ANALYSIS'''\n",
    "print(df.shape)\n",
    "print(df['rating'].value_counts())\n",
    "print(df.groupby('title')['rating'].mean().sort_values(ascending=True).head(50))\n",
    "\n",
    "df['rating'].hist(figsize= (10,10), color='green')\n",
    "plt.xlabel(\"Ratings\")\n",
    "plt.ylabel(\"Movies\")\n",
    "plt.show()\n",
    "\n",
    "'''VISUALIZATION'''\n",
    "tc = df.corr()\n",
    "sns.heatmap(tc)\n",
    "plt.show()\n",
    "\n",
    "ratings =pd.DataFrame(df.groupby('title')['rating'].mean())\n",
    "ratings.head()\n",
    "\n",
    "movieRate = df.pivot_table(index='user_id', columns='title', values='rating')\n",
    "movieRate.fillna(0, inplace=True)\n",
    "print(movieRate.head())\n",
    "\n",
    "\n",
    "pivot = df.pivot_table(index = 'user_id',columns = 'title', values = 'rating')\n",
    "print(pivot.head())\n",
    "def movie_correlation(movie_title, n) :\n",
    "    movie_rating = pivot[movie_title]\n",
    "    similar_to_movie = pivot.corrwith(movie_rating)\n",
    "    corr_ = pd.DataFrame(similar_to_movie, columns = ['correlation'])\n",
    "    corr_.dropna(inplace=True)\n",
    "    return corr_.sort_values(by = 'correlation',ascending=False).head(n)\n",
    "\n",
    "\n",
    "movie_correlation('Aliens (1986)', n = 10)"
   ],
   "execution_count":null,
   "outputs":[
    
   ],
   "metadata":{
    "datalore":{
     "node_id":"41Pqn7a83arIB7ZubG4tlO",
     "type":"CODE",
     "hide_input_from_viewers":true,
     "hide_output_from_viewers":true
    }
   }
  }
 ],
 "metadata":{
  "kernelspec":{
   "display_name":"Python",
   "language":"python",
   "name":"python"
  },
  "datalore":{
   "computation_mode":"JUPYTER",
   "package_manager":"pip",
   "base_environment":"default",
   "packages":[
    
   ],
   "report_row_ids":[
    
   ],
   "version":3
  }
 },
 "nbformat":4,
 "nbformat_minor":4
}